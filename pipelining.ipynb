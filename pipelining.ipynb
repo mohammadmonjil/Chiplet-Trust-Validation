{
 "cells": [
  {
   "cell_type": "code",
   "execution_count": 1,
   "id": "e3c56391-6bbe-4664-9547-869b6978b53a",
   "metadata": {},
   "outputs": [
    {
     "name": "stdout",
     "output_type": "stream",
     "text": [
      "img shape:  (490, 1080)\n",
      "Cell_validation-4: 19609 list received with length= 4\n",
      "\n",
      " Cell_collector-2 Child thread exitingCell_validation-4: 19609 list received with length= 4\n",
      " Cell_collector-2 Parent thread exiting\n",
      "\n",
      "\n",
      "Cell_validation-4: 19609 list received with length= 0"
     ]
    },
    {
     "name": "stdout",
     "output_type": "stream",
     "text": [
      "\n"
     ]
    }
   ],
   "source": [
    "import os\n",
    "import multiprocessing\n",
    "import time\n",
    "import random\n",
    "from fourier import *\n",
    "from parallel_task_classes import *\n",
    "\n",
    "if __name__ == '__main__':\n",
    "\n",
    "    # Define parameters\n",
    "    layout_name = \"26.png\"  # Replace with your image path \n",
    "    layout_path = os.path.join( os.getcwd(), 'images', layout_name)\n",
    "    \n",
    "    # Establish communication queues.\n",
    "    cell_queue = multiprocessing.Queue()\n",
    "    partial_cell_queue = multiprocessing.Queue()\n",
    "    sorted_cell_queue_layout = multiprocessing.Queue()\n",
    "    sorted_cell_queue_SEM = multiprocessing.Queue()\n",
    "    window_event = multiprocessing.Event()\n",
    "    extractor_done_event = multiprocessing.Event()\n",
    "    merger_done_event = multiprocessing.Event()\n",
    "    row_done_event = multiprocessing.Event()\n",
    "    extractor_conn, collector_conn = multiprocessing.Pipe()\n",
    "    \n",
    "    cell_extractor_layout = Cell_extractor(cell_queue, partial_cell_queue, layout_path, extractor_done_event, row_done_event, extractor_conn)\n",
    "    cell_collector_layout = Cell_collector(cell_queue, sorted_cell_queue_layout,\n",
    "                                           extractor_done_event, merger_done_event, row_done_event, collector_conn)\n",
    "    cell_merger_layout = Cell_merger(partial_cell_queue, cell_queue, extractor_done_event, merger_done_event)\n",
    "\n",
    "    cell_validation = Cell_validation(sorted_cell_queue_layout, sorted_cell_queue_SEM)\n",
    "    \n",
    "    cell_extractor_layout.start()\n",
    "    cell_collector_layout.start()\n",
    "    cell_merger_layout.start()\n",
    "    cell_validation.start()\n",
    "    \n",
    "    cell_extractor_layout.join()\n",
    "    cell_collector_layout.join()\n",
    "    cell_merger_layout.join()"
   ]
  },
  {
   "cell_type": "code",
   "execution_count": null,
   "id": "b146df33",
   "metadata": {},
   "outputs": [],
   "source": [
    "import multiprocessing\n",
    "parent_conn, child_conn = multiprocessing.Pipe()"
   ]
  },
  {
   "cell_type": "code",
   "execution_count": null,
   "id": "e943420c-cacb-4ac7-a5e3-5664d5656b53",
   "metadata": {},
   "outputs": [],
   "source": []
  }
 ],
 "metadata": {
  "kernelspec": {
   "display_name": "Python 3 (ipykernel)",
   "language": "python",
   "name": "python3"
  },
  "language_info": {
   "codemirror_mode": {
    "name": "ipython",
    "version": 3
   },
   "file_extension": ".py",
   "mimetype": "text/x-python",
   "name": "python",
   "nbconvert_exporter": "python",
   "pygments_lexer": "ipython3",
   "version": "3.10.12"
  }
 },
 "nbformat": 4,
 "nbformat_minor": 5
}
