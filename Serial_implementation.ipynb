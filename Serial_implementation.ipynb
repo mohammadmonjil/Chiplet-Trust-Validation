{
 "cells": [
  {
   "cell_type": "code",
   "execution_count": 1,
   "id": "2ef96939-0f9e-4257-93a5-c8b8bf22af43",
   "metadata": {},
   "outputs": [],
   "source": [
    "import cv2\n",
    "from useful import *\n",
    "from shape_classes import *\n",
    "import bisect\n",
    "import numpy as np\n",
    "import matplotlib.pyplot as plt\n",
    "from PIL import Image\n",
    "from fourier import *"
   ]
  },
  {
   "cell_type": "code",
   "execution_count": 9,
   "id": "06b32e33-b730-4ba6-b59d-4ba94575fcf8",
   "metadata": {},
   "outputs": [
    {
     "name": "stdout",
     "output_type": "stream",
     "text": [
      "32.45523741340554\n"
     ]
    }
   ],
   "source": [
    "layout_name = \"1.png\"  \n",
    "layout_path = os.path.join( os.getcwd(), 'images', layout_name)\n",
    "\n",
    "\n",
    "layout_image = Image.open(layout_path)\n",
    "image_array = np.array(layout_image)\n",
    "img = image_array[:,:,0]\n",
    "# plt.imshow(img)\n",
    "# plt.show()\n",
    "img_bin = my_preprocessing(img)\n",
    "blobs_layout = connected_components(img_bin)\n",
    "\n",
    "for blob in blobs_layout:\n",
    "    blob_img = blob.image\n",
    "    contour, _ = cv2.findContours(img, cv2.RETR_EXTERNAL, cv2.CHAIN_APPROX_SIMPLE)\n",
    "    gx,gy = sample_polygon_uniformly(contour[0],50)\n",
    "    contour_sampled = np.column_stack((gx, gy)).astype(np.int32)\n",
    "    f_descriptors_layout = fourier_descriptors(contour_sampled, 50)\n",
    "\n",
    "layout_name = \"2.png\"  \n",
    "layout_path = os.path.join( os.getcwd(), 'images', layout_name)\n",
    "\n",
    "\n",
    "layout_image = Image.open(layout_path)\n",
    "image_array = np.array(layout_image)\n",
    "img = image_array[:,:,0]\n",
    "# plt.imshow(img)\n",
    "# plt.show()\n",
    "img_bin = my_preprocessing(img)\n",
    "blobs_layout = connected_components(img_bin)\n",
    "\n",
    "for blob in blobs_layout:\n",
    "    blob_img = blob.image\n",
    "    contour, _ = cv2.findContours(img, cv2.RETR_EXTERNAL, cv2.CHAIN_APPROX_SIMPLE)\n",
    "    gx,gy = sample_polygon_uniformly(contour[0],50)\n",
    "    contour_sampled = np.column_stack((gx, gy)).astype(np.int32)\n",
    "    f_descriptors_SEM = fourier_descriptors(contour_sampled, 50)\n",
    "\n",
    "# diff = np.abs(f_descriptors_layout - f_descriptors_SEM)\n",
    "diff = np.abs(np.abs(f_descriptors_layout) - np.abs(f_descriptors_SEM))\n",
    "similarity = np.mean(diff)\n",
    "    \n",
    "print(similarity)"
   ]
  },
  {
   "cell_type": "code",
   "execution_count": 5,
   "id": "ce611e1a-946d-4a06-b3fe-a8087afc4d40",
   "metadata": {},
   "outputs": [
    {
     "name": "stdout",
     "output_type": "stream",
     "text": [
      "0.0\n"
     ]
    }
   ],
   "source": []
  },
  {
   "cell_type": "code",
   "execution_count": null,
   "id": "c3b31cc5-d977-4d56-bfe8-2e885500eda9",
   "metadata": {},
   "outputs": [],
   "source": []
  }
 ],
 "metadata": {
  "kernelspec": {
   "display_name": "Python 3 (ipykernel)",
   "language": "python",
   "name": "python3"
  },
  "language_info": {
   "codemirror_mode": {
    "name": "ipython",
    "version": 3
   },
   "file_extension": ".py",
   "mimetype": "text/x-python",
   "name": "python",
   "nbconvert_exporter": "python",
   "pygments_lexer": "ipython3",
   "version": "3.10.12"
  }
 },
 "nbformat": 4,
 "nbformat_minor": 5
}
