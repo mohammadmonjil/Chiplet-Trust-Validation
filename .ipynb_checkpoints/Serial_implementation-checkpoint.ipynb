{
 "cells": [
  {
   "cell_type": "code",
   "execution_count": 1,
   "id": "2ef96939-0f9e-4257-93a5-c8b8bf22af43",
   "metadata": {},
   "outputs": [],
   "source": [
    "import cv2\n",
    "from useful import *\n",
    "from shape_classes import *\n",
    "import bisect\n",
    "import numpy as np\n",
    "import matplotlib.pyplot as plt\n",
    "from PIL import Image\n",
    "from fourier import *"
   ]
  },
  {
   "cell_type": "code",
   "execution_count": 57,
   "id": "06b32e33-b730-4ba6-b59d-4ba94575fcf8",
   "metadata": {},
   "outputs": [
    {
     "name": "stdout",
     "output_type": "stream",
     "text": [
      "510.8009818647898\n"
     ]
    }
   ],
   "source": [
    "layout_name = \"3.png\"  \n",
    "layout_path = os.path.join( os.getcwd(), 'images', layout_name)\n",
    "\n",
    "\n",
    "layout_image = Image.open(layout_path)\n",
    "image_array = np.array(layout_image)\n",
    "img = image_array[:,:,0]\n",
    "# plt.imshow(img)\n",
    "# plt.show()\n",
    "img_bin = my_preprocessing(img)\n",
    "blobs_layout = connected_components(img_bin)\n",
    "\n",
    "for blob in blobs_layout:\n",
    "    blob_img = blob.image\n",
    "    contour, _ = cv2.findContours(img, cv2.RETR_EXTERNAL, cv2.CHAIN_APPROX_SIMPLE)\n",
    "    gx,gy = sample_polygon_uniformly(contour[0],50)\n",
    "    contour_sampled = np.column_stack((gx, gy)).astype(np.int32)\n",
    "    f_descriptors_layout = fourier_descriptors(contour_sampled, 50)\n",
    "\n",
    "layout_name = \"4.png\"  \n",
    "layout_path = os.path.join( os.getcwd(), 'images', layout_name)\n",
    "\n",
    "\n",
    "layout_image = Image.open(layout_path)\n",
    "image_array = np.array(layout_image)\n",
    "img = image_array[:,:,0]\n",
    "# plt.imshow(img)\n",
    "# plt.show()\n",
    "img_bin = my_preprocessing(img)\n",
    "blobs_layout = connected_components(img_bin)\n",
    "\n",
    "for blob in blobs_layout:\n",
    "    blob_img = blob.image\n",
    "    contour, _ = cv2.findContours(img, cv2.RETR_EXTERNAL, cv2.CHAIN_APPROX_SIMPLE)\n",
    "    gx,gy = sample_polygon_uniformly(contour[0],50)\n",
    "    contour_sampled = np.column_stack((gx, gy)).astype(np.int32)\n",
    "    f_descriptors_SEM = fourier_descriptors(contour_sampled, 50)\n",
    "\n",
    "# diff = np.abs(f_descriptors_layout - f_descriptors_SEM)\n",
    "diff = np.abs(np.abs(f_descriptors_layout) - np.abs(f_descriptors_SEM))\n",
    "similarity = np.mean(diff)\n",
    "    \n",
    "print(similarity)"
   ]
  },
  {
   "cell_type": "code",
   "execution_count": 58,
   "id": "fc886f81-a29b-43ce-b4d6-650b51b2b85f",
   "metadata": {},
   "outputs": [
    {
     "name": "stdout",
     "output_type": "stream",
     "text": [
      "0.0017980385072729587\n"
     ]
    }
   ],
   "source": [
    "f_descriptors_layout[0] = 0\n",
    "f_descriptors_SEM[0] = 0\n",
    "\n",
    "f_descriptors_layout_normalized = f_descriptors_layout/ np.sqrt( np.sum( (np.abs(f_descriptors_layout))**2) )\n",
    "f_descriptors_SEM_normalized = f_descriptors_SEM/ np.sqrt( np.sum( (np.abs(f_descriptors_SEM))**2) )\n",
    "\n",
    "diff = np.abs(np.abs(f_descriptors_layout_normalized) - np.abs(f_descriptors_SEM_normalized))\n",
    "similarity = np.mean(diff)\n",
    "    \n",
    "print(similarity)"
   ]
  },
  {
   "cell_type": "code",
   "execution_count": 249,
   "id": "7dcc52b2-c749-4648-bd6c-d01b16b20c6e",
   "metadata": {},
   "outputs": [],
   "source": [
    "\n",
    "\n",
    "layout_name = \"3.png\"  \n",
    "layout_path = os.path.join( os.getcwd(), 'images', layout_name)\n",
    "\n",
    "\n",
    "layout_image = Image.open(layout_path)\n",
    "image_array = np.array(layout_image)\n",
    "img = image_array[:,:,0]\n",
    "# plt.imshow(img)\n",
    "# plt.show()\n",
    "img_bin = my_preprocessing(img)\n",
    "blobs_layout = connected_components(img_bin)\n",
    "\n",
    "for blob in blobs_layout:\n",
    "    blob_img = blob.image\n",
    "    contour, _ = cv2.findContours(img, cv2.RETR_EXTERNAL, cv2.CHAIN_APPROX_SIMPLE)\n",
    "    gx,gy = sample_polygon_uniformly(contour[0],50)\n",
    "    contour_sampled = np.column_stack((gx, gy)).astype(np.int32)\n",
    "    f_descriptors_layout = fourier_descriptors(contour_sampled, 50)\n",
    "\n",
    "layout_name = \"4.png\"  \n",
    "layout_path = os.path.join( os.getcwd(), 'images', layout_name)\n",
    "\n",
    "\n",
    "layout_image = Image.open(layout_path)\n",
    "image_array = np.array(layout_image)\n",
    "img = image_array[:,:,0]\n",
    "# plt.imshow(img)\n",
    "# plt.show()\n",
    "img_bin = my_preprocessing(img)\n",
    "blobs_layout = connected_components(img_bin)\n",
    "\n",
    "for blob in blobs_layout:\n",
    "    blob_img = blob.image\n",
    "    contour, _ = cv2.findContours(img, cv2.RETR_EXTERNAL, cv2.CHAIN_APPROX_SIMPLE)\n",
    "    gx,gy = sample_polygon_uniformly(contour[0],50)\n",
    "    gx,gy = swap(gx,gy, 30)\n",
    "    contour_sampled = np.column_stack((gx, gy)).astype(np.int32)\n",
    "    # print(np.size(contour_sampled))\n",
    "    f_descriptors_SEM = fourier_descriptors(contour_sampled, 50)\n",
    "\n",
    "# score = []\n",
    "# for j in range(0,49):\n",
    "#     for blob in blobs_layout:\n",
    "#         blob_img = blob.image\n",
    "#         contour, _ = cv2.findContours(img, cv2.RETR_EXTERNAL, cv2.CHAIN_APPROX_SIMPLE)\n",
    "#         gx,gy = sample_polygon_uniformly(contour[0],50)\n",
    "#         gx,gy = swap(gx,gy, j)\n",
    "#         contour_sampled = np.column_stack((gx, gy)).astype(np.int32)\n",
    "#         # print(np.size(contour_sampled))\n",
    "#         f_descriptors_SEM = fourier_descriptors(contour_sampled, 50)\n",
    "#         fl = f_descriptors_layout/ np.sqrt( np.sum( (np.abs(f_descriptors_layout))**2) )\n",
    "#         fs = f_descriptors_SEM/ np.sqrt( np.sum( (np.abs(f_descriptors_SEM))**2) )\n",
    "#         score.append(complex_l2(fl, fs)  )\n",
    "        \n",
    "# diff = np.abs(f_descriptors_layout - f_descriptors_SEM)\n",
    "# diff = np.abs(f_descriptors_layout - f_descriptors_SEM)\n",
    "# similarity = np.mean(diff)\n",
    "    \n",
    "# print(complex_l2(f_descriptors_layout,f_descriptors_SEM))"
   ]
  },
  {
   "cell_type": "code",
   "execution_count": 229,
   "id": "3710ea4a-5e51-404e-84b1-089b69a82abc",
   "metadata": {},
   "outputs": [
    {
     "name": "stdout",
     "output_type": "stream",
     "text": [
      "[0.0791171861997035, 0.10731265042253656, 0.15362824288485272, 0.20418146887016272, 0.2545638122617039, 0.30306573168612844, 0.34955674121617375, 0.3941658140434098, 0.43724827379283204, 0.47921331128879935, 0.5202753536955154, 0.5602968389290274, 0.5988779336548772, 0.6355913267252434, 0.6699275690415734, 0.7016152105164943, 0.7305018010195392, 0.7563723850310787, 0.779282331462289, 0.799256053190178, 0.8162938359372142, 0.8302967052604396, 0.8412171685192678, 0.8488852403686835, 0.8532489444691758, 0.8543263335936013, 0.8520773006835385, 0.846508728481363, 0.8376483924982727, 0.8256415982605484, 0.8105781758712647, 0.7925796284225609, 0.7716237510018474, 0.7476602394412766, 0.7206980573249817, 0.6907424369342113, 0.6579834242810887, 0.622547155911151, 0.5847881953743614, 0.545314662967272, 0.5045768356091399, 0.46293160831951663, 0.42048174614025635, 0.3771077792813629, 0.33231212004853966, 0.28567748798085807, 0.2372102047442206, 0.18716446190856698, 0.13784420430134853]\n"
     ]
    },
    {
     "data": {
      "text/plain": [
       "[<matplotlib.lines.Line2D at 0x730faae012d0>]"
      ]
     },
     "execution_count": 229,
     "metadata": {},
     "output_type": "execute_result"
    },
    {
     "data": {
      "image/png": "[encoded data removed]",
      "text/plain": [
       "<Figure size 640x480 with 1 Axes>"
      ]
     },
     "metadata": {},
     "output_type": "display_data"
    }
   ],
   "source": [
    "print(score)\n",
    "plt.plot(score)"
   ]
  },
  {
   "cell_type": "code",
   "execution_count": 250,
   "id": "eacb049e-a668-43b8-a8d1-c5786ab0cd12",
   "metadata": {},
   "outputs": [
    {
     "name": "stdout",
     "output_type": "stream",
     "text": [
      "1.8840524180692386\n"
     ]
    }
   ],
   "source": [
    "f_descriptors_layout[0] = 0\n",
    "f_descriptors_SEM[0] = 0\n",
    "\n",
    "fl = f_descriptors_layout/ np.sqrt( np.sum( (np.abs(f_descriptors_layout))**2) )\n",
    "fs = f_descriptors_SEM/ np.sqrt( np.sum( (np.abs(f_descriptors_SEM))**2) )\n",
    "\n",
    "# diff = np.abs(f_descriptors_layout_normalized - f_descriptors_SEM_normalized)\n",
    "# diff = f_descriptors_layout_normalized - f_descriptors_SEM_normalized\n",
    "# similarity = np.mean(diff)\n",
    "    \n",
    "print(complex_l2(fl, fs) )"
   ]
  },
  {
   "cell_type": "code",
   "execution_count": 253,
   "id": "8b587f03-9587-4534-979d-7227c644c6d7",
   "metadata": {},
   "outputs": [
    {
     "ename": "TypeError",
     "evalue": "len() of unsized object",
     "output_type": "error",
     "traceback": [
      "\u001b[0;31m---------------------------------------------------------------------------\u001b[0m",
      "\u001b[0;31mTypeError\u001b[0m                                 Traceback (most recent call last)",
      "Cell \u001b[0;32mIn[253], line 1\u001b[0m\n\u001b[0;32m----> 1\u001b[0m fl1, fl2 \u001b[38;5;241m=\u001b[39m \u001b[43mmakeShiftInvariant\u001b[49m\u001b[43m(\u001b[49m\u001b[43mfl\u001b[49m\u001b[43m)\u001b[49m\n\u001b[1;32m      2\u001b[0m fs1, fs2 \u001b[38;5;241m=\u001b[39m makeShiftInvariant(fs)\n\u001b[1;32m      4\u001b[0m \u001b[38;5;28mprint\u001b[39m(complex_l2(fl1, fs1) )\n",
      "Cell \u001b[0;32mIn[252], line 68\u001b[0m, in \u001b[0;36mmakeShiftInvariant\u001b[0;34m(G)\u001b[0m\n\u001b[1;32m     67\u001b[0m \u001b[38;5;28;01mdef\u001b[39;00m \u001b[38;5;21mmakeShiftInvariant\u001b[39m(G):\n\u001b[0;32m---> 68\u001b[0m     phi \u001b[38;5;241m=\u001b[39m \u001b[43mgetStartingPhase\u001b[49m\u001b[43m(\u001b[49m\u001b[43mG\u001b[49m\u001b[43m)\u001b[49m\n\u001b[1;32m     69\u001b[0m     GA \u001b[38;5;241m=\u001b[39m shiftStartingPointPhase(G, phi)\n\u001b[1;32m     70\u001b[0m     GB \u001b[38;5;241m=\u001b[39m shiftStartingPointPhase(G, phi\u001b[38;5;241m+\u001b[39mnp\u001b[38;5;241m.\u001b[39mpi)\n",
      "Cell \u001b[0;32mIn[252], line 33\u001b[0m, in \u001b[0;36mgetStartingPhase\u001b[0;34m(G)\u001b[0m\n\u001b[1;32m     31\u001b[0m \u001b[38;5;28;01mfor\u001b[39;00m k \u001b[38;5;129;01min\u001b[39;00m \u001b[38;5;28mrange\u001b[39m(\u001b[38;5;241m0\u001b[39m,K):\n\u001b[1;32m     32\u001b[0m     phi \u001b[38;5;241m=\u001b[39m np\u001b[38;5;241m.\u001b[39mpi\u001b[38;5;241m*\u001b[39mk\u001b[38;5;241m/\u001b[39m\u001b[38;5;241m/\u001b[39mK\n\u001b[0;32m---> 33\u001b[0m     c \u001b[38;5;241m=\u001b[39m \u001b[43mfp\u001b[49m\u001b[43m(\u001b[49m\u001b[43mG\u001b[49m\u001b[43m,\u001b[49m\u001b[43m \u001b[49m\u001b[43mphi\u001b[49m\u001b[43m)\u001b[49m\n\u001b[1;32m     34\u001b[0m     \u001b[38;5;28;01mif\u001b[39;00m c \u001b[38;5;241m>\u001b[39m cmax:\n\u001b[1;32m     35\u001b[0m         cmax \u001b[38;5;241m=\u001b[39m c\n",
      "Cell \u001b[0;32mIn[252], line 45\u001b[0m, in \u001b[0;36mfp\u001b[0;34m(phi, G)\u001b[0m\n\u001b[1;32m     43\u001b[0m G \u001b[38;5;241m=\u001b[39m np\u001b[38;5;241m.\u001b[39marray(G)  \u001b[38;5;66;03m# Ensure G is a numpy array\u001b[39;00m\n\u001b[1;32m     44\u001b[0m total \u001b[38;5;241m=\u001b[39m \u001b[38;5;241m0\u001b[39m\n\u001b[0;32m---> 45\u001b[0m mp \u001b[38;5;241m=\u001b[39m \u001b[38;5;28mint\u001b[39m((\u001b[38;5;28;43mlen\u001b[39;49m\u001b[43m(\u001b[49m\u001b[43mG\u001b[49m\u001b[43m)\u001b[49m\u001b[38;5;241m-\u001b[39m\u001b[38;5;241m1\u001b[39m)\u001b[38;5;241m/\u001b[39m\u001b[38;5;241m2\u001b[39m)\n\u001b[1;32m     46\u001b[0m \u001b[38;5;28;01mfor\u001b[39;00m m \u001b[38;5;129;01min\u001b[39;00m \u001b[38;5;28mrange\u001b[39m(\u001b[38;5;241m1\u001b[39m, mp \u001b[38;5;241m+\u001b[39m\u001b[38;5;241m1\u001b[39m):\n\u001b[1;32m     47\u001b[0m     Gm \u001b[38;5;241m=\u001b[39m G[ m\u001b[38;5;241m%\u001b[39mmp ] \u001b[38;5;241m*\u001b[39m np\u001b[38;5;241m.\u001b[39mexp(\u001b[38;5;241m-\u001b[39mm \u001b[38;5;241m*\u001b[39m \u001b[38;5;241m1\u001b[39mj \u001b[38;5;241m*\u001b[39m phi)\n",
      "\u001b[0;31mTypeError\u001b[0m: len() of unsized object"
     ]
    }
   ],
   "source": [
    "fl1, fl2 = makeShiftInvariant(fl)\n",
    "fs1, fs2 = makeShiftInvariant(fs)\n",
    "\n",
    "print(complex_l2(fl1, fs1) )\n",
    "print(complex_l2(fl1, fs2) )\n",
    "print(complex_l2(fl2, fs1) )\n",
    "print(complex_l2(fl2, fs2) )"
   ]
  },
  {
   "cell_type": "code",
   "execution_count": 117,
   "id": "968ab61d-c841-42c6-89ce-5d387d270a34",
   "metadata": {},
   "outputs": [
    {
     "name": "stdout",
     "output_type": "stream",
     "text": [
      "20\n",
      "[0.         0.20609122 0.03646726 0.0575766  0.03210743 0.01588394\n",
      " 0.01304702 0.00559996 0.00536902 0.00487839]\n",
      "[0.01351017 0.00489607 0.00505883 0.02627837 0.06941132 0.06623882\n",
      " 0.04263627 0.07212538 0.96645551]\n"
     ]
    }
   ],
   "source": [
    "print(len(fl))\n",
    "l = len(fl)\n",
    "pos = fl[:l//2]\n",
    "neg = fl[l//2+1:]\n",
    "\n",
    "print(np.abs(pos))\n",
    "print(np.abs(neg))"
   ]
  },
  {
   "cell_type": "code",
   "execution_count": 149,
   "id": "ed5a2fbe-6cb1-4966-b121-071bce3f3e77",
   "metadata": {},
   "outputs": [
    {
     "name": "stdout",
     "output_type": "stream",
     "text": [
      "1\n",
      "2\n",
      "3\n"
     ]
    }
   ],
   "source": [
    "for m in range(1,4):\n",
    "    print(m)"
   ]
  },
  {
   "cell_type": "code",
   "execution_count": 184,
   "id": "a1e51813-8d79-4d8f-b8a2-d43982a970a8",
   "metadata": {},
   "outputs": [
    {
     "name": "stdout",
     "output_type": "stream",
     "text": [
      "1.0\n"
     ]
    }
   ],
   "source": [
    "\n",
    "\n",
    "# def fp(phi, G):\n",
    "#     G = np.array(G)  # Ensure G is a numpy array\n",
    "#     total = 0\n",
    "#     mp = len(G)\n",
    "#     for m in range(mp):\n",
    "#         Gm = G[(-m) % mp] * np.exp(-m * 1j * phi)\n",
    "#         Gp = G[(m) % mp] * np.exp(m * 1j * phi)\n",
    "#         total += Gp.real * Gm.imag - Gp.imag * Gm.real\n",
    "#     return -total  # Negate the function for maximization\n",
    "\n",
    "G = fl\n",
    "\n",
    "x = getStartingPhase(G)\n",
    "print(x)\n"
   ]
  },
  {
   "cell_type": "code",
   "execution_count": 252,
   "id": "9bdf1d01-039c-4e81-a294-d8cbb66c312e",
   "metadata": {},
   "outputs": [],
   "source": [
    "import numpy as np\n",
    "from scipy.optimize import minimize_scalar\n",
    "\n",
    "def swap(a,b,x):\n",
    "    temp = a[:x]\n",
    "\n",
    "    a = np.concatenate((a[x:], temp))\n",
    "\n",
    "    temp = b[:x]\n",
    "    b = np.concatenate( (b[x:], temp))\n",
    "\n",
    "    return a,b\n",
    "\n",
    "def complex_l2(f1,f2):\n",
    "    a = f1 -f2\n",
    "    return np.sqrt(np.sum((a.real)**2 + (a.imag)**2))\n",
    "\n",
    "# def getStartPointPhase:\n",
    "#     pass\n",
    "# def getStartingPhase(G):\n",
    "#     result = minimize_scalar(fp, bounds=(0, np.pi), args=(G,))\n",
    "#     max_phi = result.x\n",
    "#     return result.x\n",
    "\n",
    "def getStartingPhase(G):\n",
    "\n",
    "    cmax = -np.inf\n",
    "    phimax = 0\n",
    "    K = 10000\n",
    "\n",
    "    for k in range(0,K):\n",
    "        phi = np.pi*k//K\n",
    "        c = fp( phi, G)\n",
    "        if c > cmax:\n",
    "            cmax = c\n",
    "            phimax = phi\n",
    "    return phimax\n",
    "    # result = minimize_scalar(fp, bounds=(0, np.pi), args=(G,))\n",
    "    # max_phi = result.x\n",
    "    # return result.x\n",
    "    \n",
    "def fp(phi, G):\n",
    "    G = np.array(G)  # Ensure G is a numpy array\n",
    "    total = 0\n",
    "    mp = int((len(G)-1)/2)\n",
    "    for m in range(1, mp +1):\n",
    "        Gm = G[ m%mp ] * np.exp(-m * 1j * phi)\n",
    "        Gp = G[ (-m)%mp ] * np.exp(m * 1j * phi)\n",
    "        # print((-m) % mp)\n",
    "        # print((m) % mp)\n",
    "        total = total + Gp.real * Gm.imag - Gp.imag * Gm.real\n",
    "    return -total  # Negate the function for maximization\n",
    "\n",
    "# def\n",
    "# public int getCoefficientIndex(int m) {\n",
    "# \t\treturn mod(m, G.length);\n",
    "# \t}\n",
    "\n",
    "def shiftStartingPointPhase(G, phi):\n",
    "    mp = int((len(G)-1)/2)\n",
    "    Gnew = G\n",
    "    for m in range(-mp, mp+1):\n",
    "        if m != 0:\n",
    "            Gnew[(m) % mp] = G[(m) % mp] * np.exp(m * 1j * phi)\n",
    "    return -Gnew\n",
    "\n",
    "def makeShiftInvariant(G):\n",
    "    phi = getStartingPhase(G)\n",
    "    GA = shiftStartingPointPhase(G, phi)\n",
    "    GB = shiftStartingPointPhase(G, phi+np.pi)\n",
    "\n",
    "    return GA, GB\n",
    "\n",
    "def getIndex(m, mp):\n",
    "    return m%mp"
   ]
  },
  {
   "cell_type": "code",
   "execution_count": 243,
   "id": "652ea6f0-fd42-4c96-868d-86f5ea2ee0fe",
   "metadata": {},
   "outputs": [
    {
     "name": "stdout",
     "output_type": "stream",
     "text": [
      "1 49\n",
      "2 48\n",
      "3 47\n",
      "4 46\n",
      "5 45\n",
      "6 44\n",
      "7 43\n",
      "8 42\n",
      "9 41\n",
      "10 40\n",
      "11 39\n",
      "12 38\n",
      "13 37\n",
      "14 36\n",
      "15 35\n",
      "16 34\n",
      "17 33\n",
      "18 32\n",
      "19 31\n",
      "20 30\n",
      "21 29\n",
      "22 28\n",
      "23 27\n",
      "24 26\n",
      "25 25\n"
     ]
    }
   ],
   "source": [
    "mp = 50\n",
    "for m in range(1, int(mp/2)+1):\n",
    "        print( getIndex(m, mp) , getIndex(-m,mp) )\n",
    "        # print((m) % mp)"
   ]
  },
  {
   "cell_type": "code",
   "execution_count": null,
   "id": "ce611e1a-946d-4a06-b3fe-a8087afc4d40",
   "metadata": {},
   "outputs": [],
   "source": [
    "layout_name = \"2.png\"  \n",
    "layout_path = os.path.join( os.getcwd(), 'images', layout_name)\n",
    "\n",
    "\n",
    "layout_image = Image.open(layout_path)\n",
    "image_array = np.array(layout_image)\n",
    "img = my_preprocessing(image_array[:,:,0])\n",
    "print(sum(sum(img)))\n",
    "print(type(img))"
   ]
  },
  {
   "cell_type": "code",
   "execution_count": null,
   "id": "fbd136e3-bdae-49eb-9bf6-5357981562c5",
   "metadata": {},
   "outputs": [],
   "source": [
    "import cv2\n",
    "from useful import *\n",
    "from shape_classes import *\n",
    "import bisect\n",
    "import numpy as np\n",
    "import matplotlib.pyplot as plt\n",
    "from PIL import Image\n",
    "from fourier import *\n",
    "\n",
    "layout_name = \"36.png\"  \n",
    "path = os.path.join( os.getcwd(), 'images', layout_name)\n",
    "\n",
    "adaptive_window = Adaptive_window(path, 500)\n",
    "\n",
    "start_row, end_row, _ = adaptive_window.get_window_rows()\n",
    "# start_row, end_row = (0, 210)\n",
    "start_col = 0\n",
    "end_col = start_col + 500\n",
    "image = Image.open(path)\n",
    "print(image.size)\n",
    "img = np.array( image.crop(( start_col, start_row, end_col, end_row )) ) [:,:,0]\n",
    "img_bin = my_preprocessing(img)\n",
    "plt.imshow(img_bin)\n",
    "plt.show()\n",
    "\n",
    "start_row, end_row, _ = adaptive_window.get_window_rows()\n",
    "# start_row, end_row = (0, 210)\n",
    "start_col = 0\n",
    "end_col = start_col + 500\n",
    "image = Image.open(path)\n",
    "print(image.size)\n",
    "img = np.array( image.crop(( start_col, start_row, end_col, end_row )) ) [:,:,0]\n",
    "img_bin = my_preprocessing(img)\n",
    "plt.imshow(img_bin)\n",
    "plt.show()\n",
    "\n",
    "start_row, end_row, _ = adaptive_window.get_window_rows()\n",
    "# start_row, end_row = (0, 210)\n",
    "start_col = 0\n",
    "end_col = start_col + 500\n",
    "image = Image.open(path)\n",
    "print(image.size)\n",
    "img = np.array( image.crop(( start_col, start_row, end_col, end_row )) ) [:,:,0]\n",
    "img_bin = my_preprocessing(img)\n",
    "plt.imshow(img_bin)\n",
    "plt.show()\n",
    "\n",
    "start_row, end_row, _ = adaptive_window.get_window_rows()\n",
    "# start_row, end_row = (0, 210)\n",
    "start_col = 0\n",
    "end_col = start_col + 500\n",
    "image = Image.open(path)\n",
    "print(image.size)\n",
    "img = np.array( image.crop(( start_col, start_row, end_col, end_row )) ) [:,:,0]\n",
    "img_bin = my_preprocessing(img)\n",
    "plt.imshow(img_bin)\n",
    "plt.show()"
   ]
  },
  {
   "cell_type": "code",
   "execution_count": 4,
   "id": "c3b31cc5-d977-4d56-bfe8-2e885500eda9",
   "metadata": {},
   "outputs": [],
   "source": [
    "import PIL\n",
    "\n",
    "class Adaptive_window:\n",
    "    def __init__(self, path, win_col_length):\n",
    "        self.image = Image.open(path)\n",
    "        _, self.im_row_length  = self.image.size\n",
    "        self.horizontal_hop = 200\n",
    "        self.th = 50\n",
    "        self.start_row = 0\n",
    "        self.end_row = self.start_row + self.horizontal_hop\n",
    "        self.start_col = 0\n",
    "        self.end_col = self.start_col + win_col_length\n",
    "        self.is_this_last_rows = False\n",
    "        self.first_rows_done =  False\n",
    "        self.cell_width = 0\n",
    "    \n",
    "    def get_window_rows(self):\n",
    "\n",
    "        if self.first_rows_done:\n",
    "            self.end_row = self.start_row + self.cell_width\n",
    "        else:\n",
    "            self.end_row = self.start_row + self.horizontal_hop\n",
    "            \n",
    "        if self.end_row >= self.im_row_length:\n",
    "            self.end_row = self.im_row_length\n",
    "            self.is_this_last_rows = True\n",
    "            return self.start_row, self.end_row, self.is_this_last_rows\n",
    "            \n",
    "        while True:\n",
    "            window_bin = my_preprocessing( np.array( self.image.crop(( self.start_col, self.start_row, self.end_col, self.end_row )) )[:,:,0] )\n",
    "\n",
    "            if sum( window_bin[self.end_row - self.start_row -1,:] ) == 0:\n",
    "                window_found = True\n",
    "                break\n",
    "            else:                \n",
    "                self.end_row = self.end_row + 1\n",
    "                if self.end_row >= self.im_row_length:\n",
    "                    self.end_row = self.im_row_length\n",
    "                    self.is_this_last_rows = True\n",
    "                    break\n",
    "        \n",
    "        temp_start_row = self.start_row\n",
    "        temp_end_row = self.end_row\n",
    "\n",
    "        # store for later iterations\n",
    "        self.start_row = self.end_row + 1                            \n",
    "        # self.end_row = self.start_row + temp_end_row - temp_start_row\n",
    "        \n",
    "        if not self.first_rows_done:\n",
    "            self.first_rows_done = True\n",
    "            self.cell_width = temp_end_row - temp_start_row\n",
    "            \n",
    "        return temp_start_row, temp_end_row, self.is_this_last_rows\n",
    "\n",
    "    def get_windows_rows_binary(self):\n",
    "        \n",
    "        if self.first_rows_done:\n",
    "            self.end_row = self.start_row + self.cell_width\n",
    "            low = self.end_row -  self.cell_width//2\n",
    "            high = self.end_row -  self.cell_width//2\n",
    "        else:\n",
    "            self.end_row = self.start_row + self.horizontal_hop\n",
    "            low = self.end_row -  self.horizontal_hop//2\n",
    "            high = self.end_row -  self.horizontal_hop//2\n",
    "            \n",
    "        if self.end_row >= self.im_row_length:\n",
    "            self.end_row = self.im_row_length\n",
    "            self.is_this_last_rows = True\n",
    "            return self.start_row, self.end_row, self.is_this_last_rows\n",
    "\n",
    "        \n",
    "        while low <= high:\n",
    "            mid = int((low + high)//2)\n",
    "            \n",
    "        \n",
    "        \n",
    "# plt.imshow(img)\n",
    "# # plt.show()\n",
    "# img_bin = my_preprocessing(img)\n",
    "        "
   ]
  },
  {
   "cell_type": "code",
   "execution_count": 7,
   "id": "840afd9c-7cfb-4726-877b-e8e3e9fb65e3",
   "metadata": {},
   "outputs": [
    {
     "data": {
      "image/png": "[encoded data removed]",
      "text/plain": [
       "<Figure size 640x480 with 1 Axes>"
      ]
     },
     "metadata": {},
     "output_type": "display_data"
    },
    {
     "data": {
      "image/png": "[encoded data removed]",
      "text/plain": [
       "<Figure size 640x480 with 1 Axes>"
      ]
     },
     "metadata": {},
     "output_type": "display_data"
    },
    {
     "data": {
      "image/png": "[encoded data removed]",
      "text/plain": [
       "<Figure size 640x480 with 1 Axes>"
      ]
     },
     "metadata": {},
     "output_type": "display_data"
    },
    {
     "data": {
      "image/png": "[encoded data removed]",
      "text/plain": [
       "<Figure size 640x480 with 1 Axes>"
      ]
     },
     "metadata": {},
     "output_type": "display_data"
    }
   ],
   "source": [
    "layout_name = \"37.png\"  \n",
    "path = os.path.join( os.getcwd(), 'images', layout_name)\n",
    "\n",
    "adaptive_window = Adaptive_window(path, 500)\n",
    "image = Image.open(path)\n",
    "\n",
    "while True:\n",
    "    start_row, end_row, flag = adaptive_window.get_window_rows()\n",
    "    start_col = 0\n",
    "    end_col = start_col + 500\n",
    "    img = np.array( image.crop(( start_col, start_row, end_col, end_row )) ) [:,:,0]\n",
    "    img_bin = my_preprocessing(img)\n",
    "    plt.imshow(img_bin)\n",
    "    plt.show()\n",
    "    \n",
    "    if flag:\n",
    "        break"
   ]
  }
 ],
 "metadata": {
  "kernelspec": {
   "display_name": "Python 3 (ipykernel)",
   "language": "python",
   "name": "python3"
  },
  "language_info": {
   "codemirror_mode": {
    "name": "ipython",
    "version": 3
   },
   "file_extension": ".py",
   "mimetype": "text/x-python",
   "name": "python",
   "nbconvert_exporter": "python",
   "pygments_lexer": "ipython3",
   "version": "3.10.12"
  }
 },
 "nbformat": 4,
 "nbformat_minor": 5
}
