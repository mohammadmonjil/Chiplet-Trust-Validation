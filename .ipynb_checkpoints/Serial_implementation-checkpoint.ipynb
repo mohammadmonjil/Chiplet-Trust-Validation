{
 "cells": [
  {
   "cell_type": "code",
   "execution_count": 6,
   "id": "2ef96939-0f9e-4257-93a5-c8b8bf22af43",
   "metadata": {},
   "outputs": [],
   "source": [
    "import cv2\n",
    "from useful import *\n",
    "from shape_classes import *\n",
    "import bisect\n",
    "import numpy as np\n",
    "import matplotlib.pyplot as plt\n",
    "from PIL import Image\n",
    "from fourier import *"
   ]
  },
  {
   "cell_type": "code",
   "execution_count": 7,
   "id": "06b32e33-b730-4ba6-b59d-4ba94575fcf8",
   "metadata": {},
   "outputs": [],
   "source": [
    "layout_name = \"40.png\"  \n",
    "layout_path = os.path.join( os.getcwd(), 'images', layout_name)\n",
    "\n",
    "\n",
    "layout_image = Image.open(layout_path)\n",
    "image_array = np.array(layout_image)\n",
    "img = image_array[:,:,0]\n",
    "# plt.imshow(img)\n",
    "# plt.show()\n",
    "img_bin = my_preprocessing(img)\n",
    "blobs_layout = connected_components(img_bin)"
   ]
  },
  {
   "cell_type": "code",
   "execution_count": 10,
   "id": "ce611e1a-946d-4a06-b3fe-a8087afc4d40",
   "metadata": {},
   "outputs": [
    {
     "ename": "ValueError",
     "evalue": "could not broadcast input array from shape (224,2) into shape (224,)",
     "output_type": "error",
     "traceback": [
      "\u001b[0;31m---------------------------------------------------------------------------\u001b[0m",
      "\u001b[0;31mValueError\u001b[0m                                Traceback (most recent call last)",
      "Cell \u001b[0;32mIn[10], line 6\u001b[0m\n\u001b[1;32m      4\u001b[0m gx,gy \u001b[38;5;241m=\u001b[39m sample_polygon_uniformly(contour[\u001b[38;5;241m0\u001b[39m],\u001b[38;5;241m50\u001b[39m)\n\u001b[1;32m      5\u001b[0m contour_sampled \u001b[38;5;241m=\u001b[39m np\u001b[38;5;241m.\u001b[39mcolumn_stack((gx, gy))\u001b[38;5;241m.\u001b[39mastype(np\u001b[38;5;241m.\u001b[39mint32)\n\u001b[0;32m----> 6\u001b[0m f_descriptors_layout \u001b[38;5;241m=\u001b[39m \u001b[43mfourier_descriptors\u001b[49m\u001b[43m(\u001b[49m\u001b[43mcontour\u001b[49m\u001b[43m[\u001b[49m\u001b[38;5;241;43m0\u001b[39;49m\u001b[43m]\u001b[49m\u001b[43m,\u001b[49m\u001b[43m \u001b[49m\u001b[38;5;241;43m50\u001b[39;49m\u001b[43m)\u001b[49m\n\u001b[1;32m      7\u001b[0m \u001b[38;5;28mprint\u001b[39m(f_descriptors_layout)\n",
      "File \u001b[0;32m~/OneDrive/Ubuntu/Coding/SHI/new/fourier.py:11\u001b[0m, in \u001b[0;36mfourier_descriptors\u001b[0;34m(contour, num_coefficients)\u001b[0m\n\u001b[1;32m      8\u001b[0m \u001b[38;5;28;01mdef\u001b[39;00m \u001b[38;5;21mfourier_descriptors\u001b[39m(contour, num_coefficients \u001b[38;5;241m=\u001b[39m \u001b[38;5;28;01mNone\u001b[39;00m):\n\u001b[1;32m      9\u001b[0m     \u001b[38;5;66;03m# Convert the contour points to complex numbers\u001b[39;00m\n\u001b[1;32m     10\u001b[0m     contour_complex \u001b[38;5;241m=\u001b[39m np\u001b[38;5;241m.\u001b[39mempty(\u001b[38;5;28mlen\u001b[39m(contour), dtype\u001b[38;5;241m=\u001b[39m\u001b[38;5;28mcomplex\u001b[39m)\n\u001b[0;32m---> 11\u001b[0m     \u001b[43mcontour_complex\u001b[49m\u001b[38;5;241;43m.\u001b[39;49m\u001b[43mreal\u001b[49m \u001b[38;5;241m=\u001b[39m contour[:, \u001b[38;5;241m0\u001b[39m]\n\u001b[1;32m     12\u001b[0m     contour_complex\u001b[38;5;241m.\u001b[39mimag \u001b[38;5;241m=\u001b[39m contour[:, \u001b[38;5;241m1\u001b[39m]\n\u001b[1;32m     14\u001b[0m     \u001b[38;5;66;03m# Apply Fourier Transform\u001b[39;00m\n",
      "\u001b[0;31mValueError\u001b[0m: could not broadcast input array from shape (224,2) into shape (224,)"
     ]
    }
   ],
   "source": [
    "for blob in blobs_layout:\n",
    "    blob_img = blob.image\n",
    "    contour, _ = cv2.findContours(img, cv2.RETR_EXTERNAL, cv2.CHAIN_APPROX_SIMPLE)\n",
    "    gx,gy = sample_polygon_uniformly(contour[0],50)\n",
    "    contour_sampled = np.column_stack((gx, gy)).astype(np.int32)\n",
    "    f_descriptors_layout = fourier_descriptors(contour_sampled, 50)\n",
    "    print(f_descriptors_layout)"
   ]
  },
  {
   "cell_type": "code",
   "execution_count": null,
   "id": "c3b31cc5-d977-4d56-bfe8-2e885500eda9",
   "metadata": {},
   "outputs": [],
   "source": []
  }
 ],
 "metadata": {
  "kernelspec": {
   "display_name": "Python 3 (ipykernel)",
   "language": "python",
   "name": "python3"
  },
  "language_info": {
   "codemirror_mode": {
    "name": "ipython",
    "version": 3
   },
   "file_extension": ".py",
   "mimetype": "text/x-python",
   "name": "python",
   "nbconvert_exporter": "python",
   "pygments_lexer": "ipython3",
   "version": "3.10.12"
  }
 },
 "nbformat": 4,
 "nbformat_minor": 5
}
